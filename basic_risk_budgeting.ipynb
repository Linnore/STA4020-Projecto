{
 "cells": [
  {
   "cell_type": "code",
   "execution_count": 63,
   "metadata": {},
   "outputs": [
    {
     "name": "stdout",
     "output_type": "stream",
     "text": [
      "The autoreload extension is already loaded. To reload it, use:\n",
      "  %reload_ext autoreload\n"
     ]
    }
   ],
   "source": [
    "from scipy.optimize import minimize\n",
    "import numpy as np\n",
    "import pandas as pd\n",
    "import matplotlib.pyplot as plt\n",
    "from utils import test_result\n",
    "from utils.mean_variance import *\n",
    "import os\n",
    "\n",
    "%load_ext autoreload\n",
    "%autoreload 2\n"
   ]
  },
  {
   "cell_type": "markdown",
   "metadata": {},
   "source": [
    "# A test for the risk-budgeting model"
   ]
  },
  {
   "cell_type": "markdown",
   "metadata": {},
   "source": [
    "## Data/Stock choosing:\n",
    "1. 2010-2022年中一直在上证300中的股票-52只\n",
    "2. Monthly period from 2010 - 2022. \n"
   ]
  },
  {
   "cell_type": "code",
   "execution_count": 64,
   "metadata": {},
   "outputs": [],
   "source": [
    "crt_dir = os.path.abspath(\"\")\n",
    "data_dir = os.path.abspath(\"data\")\n"
   ]
  },
  {
   "attachments": {},
   "cell_type": "markdown",
   "metadata": {},
   "source": [
    "Read in monthly return rates the 52 stocks and risk free rates from 2009-12 to 2022-12."
   ]
  },
  {
   "cell_type": "code",
   "execution_count": 65,
   "metadata": {},
   "outputs": [],
   "source": [
    "R_df = pd.read_csv(os.path.join(\n",
    "    data_dir, \"Monthly_Return_Rates.csv\"), index_col=0, parse_dates=True)\n",
    "R_df = R_df.fillna(0)\n",
    "rf_df = pd.read_csv(os.path.join(\n",
    "    data_dir, \"Monthly_rf_Rates.csv\"), index_col=0, parse_dates=True)\n",
    "rf_df = rf_df.fillna(0)\n",
    "rf_df = rf_df\n"
   ]
  },
  {
   "attachments": {},
   "cell_type": "markdown",
   "metadata": {},
   "source": [
    "Compute monthly **excess** return rates:"
   ]
  },
  {
   "cell_type": "code",
   "execution_count": 66,
   "metadata": {},
   "outputs": [],
   "source": [
    "from utils import data_prep\n",
    "R_excess_df = data_prep.get_excess_return_rates(R_df, rf_df)\n"
   ]
  },
  {
   "attachments": {},
   "cell_type": "markdown",
   "metadata": {},
   "source": [
    "CSI300 monthly return:"
   ]
  },
  {
   "cell_type": "code",
   "execution_count": 67,
   "metadata": {},
   "outputs": [],
   "source": [
    "CSI300_df = pd.read_csv(os.path.join(\n",
    "    data_dir, \"000300.csv\"), index_col=1, parse_dates=True)['Idxrtn']\n"
   ]
  },
  {
   "cell_type": "markdown",
   "metadata": {},
   "source": [
    "# Construct Portfolio"
   ]
  },
  {
   "attachments": {},
   "cell_type": "markdown",
   "metadata": {},
   "source": [
    "* Consider the optimization problem: \n",
    "\n",
    "\\begin{aligned}\n",
    "\\min_{w} & \\quad \\sum_{i=1}^N RC_i(w)\\\\\n",
    "\\textrm{s.t.} & \\quad  \\boldsymbol{1}^Tw \\leq 1.5\\\\\n",
    "                   & \\quad w  \\geq \\boldsymbol{0}\\\\\n",
    "\\end{aligned}\n",
    "\n",
    "\n",
    "* Following the logic from sta4020 asg7. Starting from the end of 2015, at the end of every month, use the historical asset returns (from 2011/1 to the end of that month)."
   ]
  },
  {
   "attachments": {},
   "cell_type": "markdown",
   "metadata": {},
   "source": [
    "**Estimated Excess Return after 2017; And corresponding portfolio.**"
   ]
  },
  {
   "attachments": {},
   "cell_type": "markdown",
   "metadata": {},
   "source": [
    "**Please note that there are clear descriptions for the functions and constraint, please remember to check before implementing the models**"
   ]
  },
  {
   "attachments": {},
   "cell_type": "markdown",
   "metadata": {},
   "source": [
    "To add other constraints, please refer to `cons_*()` in `mean_variance.py`. For example, we implemented the box constraints for $RC_i(w)$: $$\\boldsymbol{L} \\leq RC(w) \\leq \\boldsymbol{U}.$$\n",
    "\n",
    "You can add the box constraints by adding `cons_sum_weight_lower_bound(L)` and `cons_sum_weight_upper_bound(U)` to the `constraint_list`. Note that L and U are N-dimension vector, given N assets."
   ]
  },
  {
   "cell_type": "code",
   "execution_count": null,
   "metadata": {},
   "outputs": [],
   "source": [
    "constraint_list = [\n",
    "    cons_non_negative_weight(), cons_sum_weight_upper_bound(1.5)]\n",
    "    \n",
    "R_excess_hat, w_hat = portfolio_construction(\n",
    "    -4, 25, R_excess_df, objective=obj_Exp_minus_RC, constraints=constraint_list)\n"
   ]
  },
  {
   "attachments": {},
   "cell_type": "markdown",
   "metadata": {},
   "source": [
    "**Compute net excess return; and recover net return by adding risk-free return.**"
   ]
  },
  {
   "cell_type": "code",
   "execution_count": 68,
   "metadata": {},
   "outputs": [
    {
     "data": {
      "text/html": [
       "<div>\n",
       "<style scoped>\n",
       "    .dataframe tbody tr th:only-of-type {\n",
       "        vertical-align: middle;\n",
       "    }\n",
       "\n",
       "    .dataframe tbody tr th {\n",
       "        vertical-align: top;\n",
       "    }\n",
       "\n",
       "    .dataframe thead th {\n",
       "        text-align: right;\n",
       "    }\n",
       "</style>\n",
       "<table border=\"1\" class=\"dataframe\">\n",
       "  <thead>\n",
       "    <tr style=\"text-align: right;\">\n",
       "      <th></th>\n",
       "      <th>accu_return</th>\n",
       "      <th>annual_return</th>\n",
       "      <th>annual_vol</th>\n",
       "      <th>sharpe_ratio</th>\n",
       "      <th>max_dd</th>\n",
       "      <th>winning_rate</th>\n",
       "      <th>karmar</th>\n",
       "    </tr>\n",
       "  </thead>\n",
       "  <tbody>\n",
       "    <tr>\n",
       "      <th>0</th>\n",
       "      <td>1.168964</td>\n",
       "      <td>0.139807</td>\n",
       "      <td>2.725197</td>\n",
       "      <td>0.047632</td>\n",
       "      <td>-0.464585</td>\n",
       "      <td>0.619718</td>\n",
       "      <td>2.516145</td>\n",
       "    </tr>\n",
       "  </tbody>\n",
       "</table>\n",
       "</div>"
      ],
      "text/plain": [
       "   accu_return  annual_return  annual_vol  sharpe_ratio    max_dd  \\\n",
       "0     1.168964       0.139807    2.725197      0.047632 -0.464585   \n",
       "\n",
       "   winning_rate    karmar  \n",
       "0      0.619718  2.516145  "
      ]
     },
     "execution_count": 68,
     "metadata": {},
     "output_type": "execute_result"
    }
   ],
   "source": [
    "R_net_hat = np.sum(R_excess_hat, axis=1) + \\\n",
    "    rf_df[rf_df.index >= pd.Timestamp(\"2017\")].values.reshape(-1,)\n",
    "R_net_hat_df = pd.DataFrame(R_net_hat, columns=[\n",
    "                            'return'], index=CSI300_df[CSI300_df.index >= pd.Timestamp(\"2017\")].index)\n",
    "\n",
    "\n",
    "test_result.calculate_result(\n",
    "    R_net_hat_df, rf_df[rf_df.index >= pd.Timestamp(\"2017\")])\n"
   ]
  },
  {
   "attachments": {},
   "cell_type": "markdown",
   "metadata": {},
   "source": [
    "#### Todo: Momentum 调参"
   ]
  },
  {
   "cell_type": "code",
   "execution_count": 69,
   "metadata": {},
   "outputs": [],
   "source": [
    "# constraint_list = [cons_non_negative_weight(), cons_sum_weight_upper_bound(1.5)]\n",
    "\n",
    "# for i in range(20):#i is the 52-i stock we decide to keep according to momentum\n",
    "#     for j in range(-6,-2):#j is the momentum period we consider\n",
    "#         print(portfolio_construction(j,i,p_dates,data))\n"
   ]
  },
  {
   "attachments": {},
   "cell_type": "markdown",
   "metadata": {},
   "source": [
    "(以上回测的结果是动量period3个月效果比较显著,在无论哪个rank的情况下 （这里之后可以画图））"
   ]
  },
  {
   "cell_type": "code",
   "execution_count": 70,
   "metadata": {},
   "outputs": [],
   "source": [
    "# sp = []\n",
    "# ar =[]\n",
    "# for i in range(10,35):\n",
    "#     df = portfolio_construction(-4,i,p_dates,data,constraint=\"1+2+3\")\n",
    "#     sp.append( df['sharpe_ratio'].values)\n",
    "#     ar.append(df['accu_return'].values)\n"
   ]
  },
  {
   "cell_type": "code",
   "execution_count": 71,
   "metadata": {},
   "outputs": [],
   "source": [
    "# sp = np.array(sp)\n",
    "# ar = np.array(ar)\n",
    "# sp[sp.argmax()],ar[ar.argmax()],sp.argmax(),ar.argmax()\n"
   ]
  },
  {
   "attachments": {},
   "cell_type": "markdown",
   "metadata": {},
   "source": [
    "**Construct equal weighted portfolio**"
   ]
  },
  {
   "cell_type": "code",
   "execution_count": 77,
   "metadata": {},
   "outputs": [],
   "source": [
    "ew_rets = pd.DataFrame(np.sum(\n",
    "    1.0*R_df[R_df.index >= pd.Timestamp(\"2017\")]/R_df.shape[1], axis=1), columns=['return'])\n"
   ]
  },
  {
   "cell_type": "markdown",
   "metadata": {},
   "source": [
    "**Plot the portfolio cumulative returns**"
   ]
  },
  {
   "cell_type": "code",
   "execution_count": 78,
   "metadata": {},
   "outputs": [
    {
     "data": {
      "image/png": "[encoded data removed]",
      "text/plain": [
       "<Figure size 432x288 with 1 Axes>"
      ]
     },
     "metadata": {
      "needs_background": "light"
     },
     "output_type": "display_data"
    }
   ],
   "source": [
    "p_cum = ((R_net_hat_df['return'] + 1).cumprod())\n",
    "ew_cum = (ew_rets['return'] + 1).cumprod()\n",
    "CSI300_cumrets = (CSI300_df[CSI300_df.index.year >= 2017] + 1).cumprod()\n",
    "\n",
    "pd.concat([p_cum, ew_cum, CSI300_cumrets], axis=1).plot()\n",
    "plt.legend(['our_model_accumulated',\n",
    "           'bench_mark_accumulated', '000300_accumulated'])\n",
    "plt.show()\n"
   ]
  },
  {
   "cell_type": "markdown",
   "metadata": {},
   "source": [
    "* maximize the sharp ratio and the formula derivation: this repository may helps\n",
    "\n",
    "https://github.com/PaiViji/PythonFinance--RiskBudgeted-Portfolio-Construction.git\n",
    "\n",
    "* we can also use this repository to check the quality of our work:\n",
    "\n",
    "https://github.com/jcrichard/pyrb.git"
   ]
  }
 ],
 "metadata": {
  "kernelspec": {
   "display_name": "base",
   "language": "python",
   "name": "python3"
  },
  "language_info": {
   "codemirror_mode": {
    "name": "ipython",
    "version": 3
   },
   "file_extension": ".py",
   "mimetype": "text/x-python",
   "name": "python",
   "nbconvert_exporter": "python",
   "pygments_lexer": "ipython3",
   "version": "3.9.7"
  },
  "orig_nbformat": 4,
  "vscode": {
   "interpreter": {
    "hash": "16ef3e8b2bd183aa8d291da52723f387131fa4ec5eafd98310d7c0d336ceaf1b"
   }
  }
 },
 "nbformat": 4,
 "nbformat_minor": 2
}

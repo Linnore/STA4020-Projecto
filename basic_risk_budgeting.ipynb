{
 "cells": [
  {
   "cell_type": "markdown",
   "metadata": {},
   "source": [
    "# A test for the risk-budgeting model"
   ]
  },
  {
   "cell_type": "markdown",
   "metadata": {},
   "source": [
    "## Data/Stock choosing:\n",
    "1. 2010-2022年中一直在上证300中的股票-52只\n",
    "2. Monthly period from 2010 - 2022. \n"
   ]
  },
  {
   "cell_type": "code",
   "execution_count": 205,
   "metadata": {},
   "outputs": [],
   "source": [
    "from scipy.optimize import minimize\n",
    "import numpy as np\n",
    "import pandas as pd\n",
    "import matplotlib.pyplot as plt\n",
    "from utils import test_result"
   ]
  },
  {
   "cell_type": "code",
   "execution_count": 206,
   "metadata": {},
   "outputs": [],
   "source": [
    "data = pd.read_csv('./data/Monthly_Return_Rates.csv',index_col=0, parse_dates=True,infer_datetime_format = True)\n",
    "data = data.fillna(0)\n",
    "# 3. Construct risk budgeting portfolio\n",
    "# portfolio dates\n",
    "p_dates = data.index[data.index.year>=2017]\n",
    "# initialise portfolio weights matrix\n",
    "w = pd.DataFrame(index=p_dates, columns=data.columns)\n",
    "# initialise portfolio return matrix\n",
    "p_rets = pd.DataFrame(index=p_dates, columns=['return'])"
   ]
  },
  {
   "cell_type": "code",
   "execution_count": 211,
   "metadata": {},
   "outputs": [],
   "source": [
    "index_df = pd.read_csv('./data/000300.csv')\n",
    "index_df.index = p_dates"
   ]
  },
  {
   "cell_type": "markdown",
   "metadata": {},
   "source": [
    "# Construct Portfolio"
   ]
  },
  {
   "cell_type": "markdown",
   "metadata": {},
   "source": [
    "* objective function: min $\\Sigma_{i=1}^N RC_i(w)$ (suppose N stocks)\n",
    "\n",
    "$RC_i(W) = \\frac{w_i(\\Sigma w)_i}{(w^T\\Sigma w)^{0.5}}$\n",
    "\n",
    "* two constraint: no short sellings; full activate trader\n",
    "\n",
    "\n",
    "* Following the logic from sta4020 asg7. Starting from the end of 2015, at the end of every month, use the historical asset returns (from 2011/1 to the end of that month)."
   ]
  },
  {
   "cell_type": "markdown",
   "metadata": {},
   "source": [
    "想要有个整体函数可以选择我要的object func和constraint; \n",
    "\n",
    "cons_sum_weight()中的tw,cons_large_risk_constraint中的最大risk限制和small_risk_constraint中的最小risk限制也能直接调"
   ]
  },
  {
   "cell_type": "code",
   "execution_count": 219,
   "metadata": {},
   "outputs": [],
   "source": [
    "\"\"\"\n",
    "This file constructs a strategic ERP portfolio and compare with an equal weighted portfolio.\n",
    "x: portfolio weights\n",
    "p_cov: covariance matrix\n",
    "\"\"\"\n",
    "\n",
    "# risk budgeting approach optimisation object function\n",
    "# minimize variance\n",
    "def obj_fun(x, p_cov):\n",
    "\treturn np.sum((x*np.dot(p_cov, x)/np.dot(x.transpose(), np.dot(p_cov, x)))**2)\n",
    "\n",
    "# maximize mean\n",
    "def obj_fun2(x,p_mean):\n",
    "\treturn -np.sum(x*p_mean)\n",
    "\n",
    "# maximize  mean-variance\n",
    "def obj_fun3(x,p_mean,p_cov):\n",
    "\treturn -np.sum(x*p_mean)+np.sum((x*np.dot(p_cov, x)/np.dot(x.transpose(), np.dot(p_cov, x)))**2)\n",
    "\n",
    "# maximize sharp ratio\n",
    "def obj_fun4(x,p_mean,p_cov):\n",
    "\treturn -np.sum(x*p_mean)/(np.sum((x*np.dot(p_cov, x)/np.dot(x.transpose(), np.dot(p_cov, x))))**2)\n",
    "\n",
    "# constraint on sum of weights equal to one\n",
    "def cons_sum_weight(x,tw):\n",
    "\treturn -np.sum(x)+tw\n",
    "\n",
    "# constraint on weight larger than zero\n",
    "def cons_long_only_weight(x):\n",
    "\treturn x\n",
    "\n",
    "# constraint about the marignal risk w.r.t. each stocks(upper bound)\n",
    "def cons_large_risk_constraint(x,p_cov):\n",
    "\treturn -x*np.dot(p_cov, x)/np.dot(x.transpose(), np.dot(p_cov, x))+0.05\n",
    "\n",
    "# constraint about the marignal risk w.r.t. each stocks(lower bound)\n",
    "def cons_small_risk_constraint(x,p_cov):\n",
    "\treturn x*np.dot(p_cov, x)/np.dot(x.transpose(), np.dot(p_cov, x))-0.02\n",
    "\n",
    "# calculate risk budgeting portfolio weight given risk budget\n",
    "def rb_p_weights(asset_rets):\n",
    "\t# number of ARP series\n",
    "\tnum_arp = asset_rets.shape[1]\n",
    "\t# covariance matrix of asset returns\n",
    "\tp_cov = asset_rets.cov()\n",
    "\t# mean of asset returns\n",
    "\tp_mean = asset_rets.mean()\n",
    "\t# initial weights\n",
    "\tw0 = 1.0 * np.ones((num_arp, 1)) / num_arp\n",
    "\t# constraints\n",
    "\tcons1 = {'type': 'ineq', 'fun': cons_sum_weight,'args':2}\n",
    "\tcons2 = {'type': 'ineq', 'fun': cons_long_only_weight}\n",
    "\tcons3 = {'type':'ineq','fun':cons_large_risk_constraint,'args':[p_cov]}\n",
    "\tcons4 = {'type':'ineq','fun':cons_small_risk_constraint,'args':[p_cov]}\n",
    "\tcons = (cons1,cons2)\n",
    "\t# portfolio optimisation\n",
    "\treturn minimize(obj_fun3, w0, args=(p_mean,p_cov), constraints=cons)\n",
    "\n",
    "# contruct portfolio\n",
    "for t in p_dates:\n",
    "\n",
    "\t# re-balance the portfolio each month\n",
    "\ttmp_portfolio = data[data.index < t]\n",
    "\ttmp_portfolio = tmp_portfolio.iloc[1:,:]\n",
    "\tw.loc[t] = (rb_p_weights(tmp_portfolio).x)\n",
    "\t# calculate risk budgeting portfolio returns\n",
    "\tp_rets.loc[t] = np.sum(w.loc[t] * data.loc[t])\n",
    "\n",
    "\t"
   ]
  },
  {
   "cell_type": "markdown",
   "metadata": {},
   "source": [
    "# 回测"
   ]
  },
  {
   "cell_type": "code",
   "execution_count": 218,
   "metadata": {},
   "outputs": [
    {
     "data": {
      "text/html": [
       "<div>\n",
       "<style scoped>\n",
       "    .dataframe tbody tr th:only-of-type {\n",
       "        vertical-align: middle;\n",
       "    }\n",
       "\n",
       "    .dataframe tbody tr th {\n",
       "        vertical-align: top;\n",
       "    }\n",
       "\n",
       "    .dataframe thead th {\n",
       "        text-align: right;\n",
       "    }\n",
       "</style>\n",
       "<table border=\"1\" class=\"dataframe\">\n",
       "  <thead>\n",
       "    <tr style=\"text-align: right;\">\n",
       "      <th></th>\n",
       "      <th>accu_return</th>\n",
       "      <th>annual_return</th>\n",
       "      <th>annual_vol</th>\n",
       "      <th>sharpe_ratio</th>\n",
       "      <th>max_dd</th>\n",
       "      <th>winning_rate</th>\n",
       "      <th>karmar</th>\n",
       "    </tr>\n",
       "  </thead>\n",
       "  <tbody>\n",
       "    <tr>\n",
       "      <th>0</th>\n",
       "      <td>-0.742104</td>\n",
       "      <td>-0.204709</td>\n",
       "      <td>1.285943</td>\n",
       "      <td>-0.166967</td>\n",
       "      <td>-0.886148</td>\n",
       "      <td>0.464789</td>\n",
       "      <td>0.837449</td>\n",
       "    </tr>\n",
       "  </tbody>\n",
       "</table>\n",
       "</div>"
      ],
      "text/plain": [
       "   accu_return  annual_return  annual_vol  sharpe_ratio    max_dd  \\\n",
       "0    -0.742104      -0.204709    1.285943     -0.166967 -0.886148   \n",
       "\n",
       "   winning_rate    karmar  \n",
       "0      0.464789  0.837449  "
      ]
     },
     "execution_count": 218,
     "metadata": {},
     "output_type": "execute_result"
    }
   ],
   "source": [
    "test_result.calculate_result(p_rets)"
   ]
  },
  {
   "cell_type": "code",
   "execution_count": 214,
   "metadata": {},
   "outputs": [
    {
     "data": {
      "image/png": "[encoded data removed]",
      "text/plain": [
       "<Figure size 432x288 with 1 Axes>"
      ]
     },
     "metadata": {
      "needs_background": "light"
     },
     "output_type": "display_data"
    }
   ],
   "source": [
    "# 4. Construct equal weighted portfolio\n",
    "ew_rets = pd.DataFrame(np.sum(1.0*data[data.index>=p_dates[0]]/data.shape[1], axis=1), columns=['return'])\n",
    "# 5. Plot the portfolio cumulative returns\n",
    "p_cumrets = ((p_rets['return'] + 1).cumprod()-1)\n",
    "ew_cumrets = (ew_rets['return'] + 1).cumprod()-1\n",
    "index_cumrets = (index_df['Idxrtn'] + 1).cumprod()-1\n",
    "pd.concat([p_cumrets,ew_cumrets,index_cumrets], axis=1).plot()\n",
    "plt.legend(['our_model_accumulated','bench_mark_accumulated','000300_accumulated'])\n",
    "plt.show()"
   ]
  },
  {
   "cell_type": "markdown",
   "metadata": {},
   "source": [
    "* maximize the sharp ratio and the formula derivation: this repository may helps\n",
    "\n",
    "https://github.com/PaiViji/PythonFinance--RiskBudgeted-Portfolio-Construction.git\n",
    "\n",
    "* we can also use this repository to check the quality of our work:\n",
    "\n",
    "https://github.com/jcrichard/pyrb.git"
   ]
  }
 ],
 "metadata": {
  "kernelspec": {
   "display_name": "Python 3.9.7 ('base')",
   "language": "python",
   "name": "python3"
  },
  "language_info": {
   "codemirror_mode": {
    "name": "ipython",
    "version": 3
   },
   "file_extension": ".py",
   "mimetype": "text/x-python",
   "name": "python",
   "nbconvert_exporter": "python",
   "pygments_lexer": "ipython3",
   "version": "3.9.7"
  },
  "orig_nbformat": 4,
  "vscode": {
   "interpreter": {
    "hash": "7a5152ad0efa82a444bbb7b5b09330ae1eae37d6d488966c94b24f2df6242daa"
   }
  }
 },
 "nbformat": 4,
 "nbformat_minor": 2
}

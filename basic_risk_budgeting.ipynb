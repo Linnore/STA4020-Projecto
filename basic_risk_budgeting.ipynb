{
 "cells": [
  {
   "cell_type": "markdown",
   "metadata": {},
   "source": [
    "# A test for the risk-budgeting model"
   ]
  },
  {
   "cell_type": "markdown",
   "metadata": {},
   "source": [
    "## Data/Stock choosing:\n",
    "1. 2010-2022年中一直在上证300中的股票-52只\n",
    "2. Monthly period from 2010 - 2022. \n"
   ]
  },
  {
   "cell_type": "code",
   "execution_count": 2,
   "metadata": {},
   "outputs": [],
   "source": [
    "from scipy.optimize import minimize\n",
    "import numpy as np\n",
    "import pandas as pd\n",
    "import matplotlib.pyplot as plt\n",
    "from utils import test_result"
   ]
  },
  {
   "cell_type": "code",
   "execution_count": 3,
   "metadata": {},
   "outputs": [],
   "source": [
    "data = pd.read_csv('./data/Monthly_Return_Rates.csv',index_col=0, parse_dates=True,infer_datetime_format = True)\n",
    "data = data.fillna(0)\n",
    "rf_df = pd.read_csv('./data/monthly_rf_rate.csv',index_col=0, parse_dates=True,infer_datetime_format = True)\n",
    "rf_df = rf_df.fillna(0)\n",
    "index_df = pd.read_csv('./data/000300.csv',index_col=1, parse_dates=True,infer_datetime_format = True)\n",
    "data['rf'] = rf_df['Nrrmtdt'].values\n",
    "data['index'] = index_df['Idxrtn']\n",
    "# 3. Construct risk budgeting portfolio\n",
    "# portfolio dates\n",
    "p_dates = data.index[data.index.year>=2017]\n",
    "# initialise portfolio weights matrix\n",
    "w = pd.DataFrame(index=p_dates, columns=data.columns)\n",
    "# initialise portfolio return matrix\n",
    "p_rets = pd.DataFrame(index=p_dates, columns=['return'])"
   ]
  },
  {
   "cell_type": "markdown",
   "metadata": {},
   "source": [
    "# Construct Portfolio"
   ]
  },
  {
   "attachments": {},
   "cell_type": "markdown",
   "metadata": {},
   "source": [
    "* Consider the optimization problem: \n",
    "\n",
    "\\begin{aligned}\n",
    "\\min_{w} & \\quad \\sum_{i=1}^N RC_i(w)\\\\\n",
    "\\textrm{s.t.} & \\quad  \\boldsymbol{1}^Tw = 1\\\\\n",
    "                   & \\quad w  \\geq \\boldsymbol{0}\\\\\n",
    "\\end{aligned}\n",
    "\n",
    "\n",
    "* Following the logic from sta4020 asg7. Starting from the end of 2015, at the end of every month, use the historical asset returns (from 2011/1 to the end of that month)."
   ]
  },
  {
   "cell_type": "markdown",
   "metadata": {},
   "source": [
    "想要有个整体函数可以选择我要的object func和constraint; \n",
    "\n",
    "cons_sum_weight()中的tw,cons_large_risk_constraint中的最大risk限制和small_risk_constraint中的最小risk限制也能直接调"
   ]
  },
  {
   "cell_type": "code",
   "execution_count": 153,
   "metadata": {},
   "outputs": [],
   "source": [
    "\"\"\"\n",
    "This file constructs a strategic ERP portfolio and compare with an equal weighted portfolio.\n",
    "x: portfolio weights\n",
    "p_cov: covariance matrix\n",
    "\"\"\"\n",
    "\n",
    "# risk budgeting approach optimisation object function\n",
    "# minimize variance\n",
    "def obj_fun(x, p_cov):\n",
    "\treturn np.sum((x*np.dot(p_cov, x)/np.dot(x.transpose(), np.dot(p_cov, x)))**2)\n",
    "\n",
    "# maximize mean\n",
    "def obj_fun2(x,p_mean):\n",
    "\treturn -np.sum(x*p_mean)\n",
    "\n",
    "# maximize  mean-variance\n",
    "def obj_fun3(x,p_mean,p_cov):\n",
    "\treturn -np.sum(x*p_mean)+np.sum((x*np.dot(p_cov, x)/np.dot(x.transpose(), np.dot(p_cov, x)))**2)\n",
    "\n",
    "# maximize sharp ratio\n",
    "def obj_fun4(x,p_mean,p_cov):\n",
    "\treturn -np.sum(x*p_mean)/(np.sum((x*np.dot(p_cov, x)/np.dot(x.transpose(), np.dot(p_cov, x))))**2)\n",
    "\n",
    "# constraint on sum of weights equal to one\n",
    "def cons_sum_weight(x,tw):\n",
    "\treturn -np.sum(x)+tw\n",
    "\n",
    "# constraint on weight larger than zero\n",
    "def cons_long_only_weight(x):\n",
    "\treturn x\n",
    "\n",
    "# constraint about the marignal risk w.r.t. each stocks(upper bound)\n",
    "def cons_large_risk_constraint(x,p_cov):\n",
    "\treturn -x*np.dot(p_cov, x)/np.dot(x.transpose(), np.dot(p_cov, x))+0.05\n",
    "\n",
    "# constraint about the marignal risk w.r.t. each stocks(lower bound)\n",
    "def cons_small_risk_constraint(x,p_cov):\n",
    "\treturn x*np.dot(p_cov, x)/np.dot(x.transpose(), np.dot(p_cov, x))-0.01\n",
    "\n",
    "# calculate risk budgeting portfolio weight given risk budget\n",
    "def rb_p_weights(asset_rets, constrain=\"1\"):\n",
    "\t\"\"\"_summary_\n",
    "\n",
    "\tArgs:\n",
    "\t\tasset_rets (_type_): _description_\n",
    "\t\tconstrain (str): In the format of \"#+#+#\". E.g., \"1+3\" specifies the first and third type of constraints.\n",
    "\n",
    "\tReturns:\n",
    "\t\t_type_: _description_\n",
    "\t\"\"\"\n",
    "\t# number of ARP series\n",
    "\tnum_arp = asset_rets.shape[1]\n",
    "\t# covariance matrix of asset returns\n",
    "\tp_cov = asset_rets.cov()\n",
    "\t# mean of asset returns\n",
    "\tp_mean = asset_rets.mean()\n",
    "\t# initial weights\n",
    "\tw0 = 1.0 * np.ones((num_arp, 1)) / num_arp\n",
    "\t# constraints\n",
    "\tcons1 = {'type': 'eq', 'fun': cons_sum_weight,'args':[1]}\n",
    "\tcons2 = {'type': 'ineq', 'fun': cons_long_only_weight}\n",
    "\tcons3 = {'type':'ineq','fun':cons_large_risk_constraint,'args':[p_cov]}\n",
    "\tcons4 = {'type':'ineq','fun':cons_small_risk_constraint,'args':[p_cov]}\n",
    "\tcons = [cons1, cons2, cons3, cons4]\n",
    "\n",
    "\tcons_strlist = constrain.split(sep='+')\n",
    "\tcons_list = []\n",
    "\tfor strnum in cons_strlist:\n",
    "\t\tcons_list.append(cons[int(strnum)-1])\n",
    "\t# Portfolio optimisation \n",
    "\treturn minimize(obj_fun3, w0, args=(p_mean,p_cov), constraints=cons_list)\n",
    "\n",
    "# contruct portfolio\n",
    "def portfolio_construction(momentum_period,rank,p_dates,data,cons):\n",
    "\tfor t in p_dates:\n",
    "\t\ttmp_portfolio = data[data.index <= t]\n",
    "\t\ttmp_portfolio_t = tmp_portfolio.T\n",
    "\t\ttmp_portfolio_t['meanofyear'] = tmp_portfolio_t.iloc[:,momentum_period:-1].mean(axis = 1)\n",
    "\t\ttmp_portfolio_t['rank1'] = tmp_portfolio_t['meanofyear'].rank(ascending = True)#note here is the ascending order\n",
    "\t\trank_t = max(rank,tmp_portfolio_t.loc['rf','rank1']+1)\n",
    "\t\ttmp_portfolio_t = tmp_portfolio_t[tmp_portfolio_t['rank1']>=rank_t].iloc[:,:-2]#here is to drop the coloumns of rf and index\n",
    "\t\tmonth_return = tmp_portfolio_t[t]\n",
    "\t\ttmp_portfolio = (tmp_portfolio_t.T).iloc[:-1,:]#here is to drop the columns of current return\n",
    "\t\tp_rets.loc[t] = np.sum((rb_p_weights(tmp_portfolio, cons).x) * month_return)\n",
    "\treturn test_result.calculate_result(p_rets)\n",
    "\t"
   ]
  },
  {
   "cell_type": "code",
   "execution_count": 156,
   "metadata": {},
   "outputs": [
    {
     "data": {
      "text/html": [
       "<div>\n",
       "<style scoped>\n",
       "    .dataframe tbody tr th:only-of-type {\n",
       "        vertical-align: middle;\n",
       "    }\n",
       "\n",
       "    .dataframe tbody tr th {\n",
       "        vertical-align: top;\n",
       "    }\n",
       "\n",
       "    .dataframe thead th {\n",
       "        text-align: right;\n",
       "    }\n",
       "</style>\n",
       "<table border=\"1\" class=\"dataframe\">\n",
       "  <thead>\n",
       "    <tr style=\"text-align: right;\">\n",
       "      <th></th>\n",
       "      <th>accu_return</th>\n",
       "      <th>annual_return</th>\n",
       "      <th>annual_vol</th>\n",
       "      <th>sharpe_ratio</th>\n",
       "      <th>max_dd</th>\n",
       "      <th>winning_rate</th>\n",
       "      <th>karmar</th>\n",
       "    </tr>\n",
       "  </thead>\n",
       "  <tbody>\n",
       "    <tr>\n",
       "      <th>0</th>\n",
       "      <td>0.948924</td>\n",
       "      <td>0.119385</td>\n",
       "      <td>1.283508</td>\n",
       "      <td>0.085223</td>\n",
       "      <td>-0.196938</td>\n",
       "      <td>0.56338</td>\n",
       "      <td>4.818385</td>\n",
       "    </tr>\n",
       "  </tbody>\n",
       "</table>\n",
       "</div>"
      ],
      "text/plain": [
       "   accu_return  annual_return  annual_vol  sharpe_ratio    max_dd  \\\n",
       "0     0.948924       0.119385    1.283508      0.085223 -0.196938   \n",
       "\n",
       "   winning_rate    karmar  \n",
       "0       0.56338  4.818385  "
      ]
     },
     "execution_count": 156,
     "metadata": {},
     "output_type": "execute_result"
    }
   ],
   "source": [
    "portfolio_construction(-4,25,p_dates,data,\"1+2\")"
   ]
  },
  {
   "cell_type": "markdown",
   "metadata": {},
   "source": [
    "## ways without momentum factor"
   ]
  },
  {
   "cell_type": "code",
   "execution_count": null,
   "metadata": {},
   "outputs": [],
   "source": [
    "# contruct portfolio\n",
    "for t in p_dates:\n",
    "\n",
    "\t# re-balance the portfolio each month\n",
    "\ttmp_portfolio = data[data.index < t]\n",
    "\ttmp_portfolio = tmp_portfolio.iloc[10:,:]\n",
    "\t#w.loc[t] = (rb_p_weights(tmp_portfolio, \"1+2\").x)\n",
    "\t# calculate risk budgeting portfolio returns\n",
    "\tp_rets.loc[t] = np.sum((rb_p_weights(tmp_portfolio, \"1+2\").x) * data.loc[t])"
   ]
  },
  {
   "cell_type": "markdown",
   "metadata": {},
   "source": [
    "# 回测"
   ]
  },
  {
   "cell_type": "code",
   "execution_count": null,
   "metadata": {},
   "outputs": [],
   "source": [
    "for i in range(20):#i is the 52-i stock we decide to keep according to momentum\n",
    "    for j in range(-6,-2):#j is the momentum period we consider\n",
    "        print(portfolio_construction(j,i,p_dates,data))"
   ]
  },
  {
   "cell_type": "markdown",
   "metadata": {},
   "source": [
    "以上回测的结果是动量period3个月效果比较显著,在无论哪个rank的情况下 （这里之后可以画图）"
   ]
  },
  {
   "cell_type": "code",
   "execution_count": 53,
   "metadata": {},
   "outputs": [],
   "source": [
    "sp = []\n",
    "ar =[]\n",
    "for i in range(10,35):\n",
    "    df = portfolio_construction(-4,i,p_dates,data,\"1+2+3\")\n",
    "    sp.append( df['sharpe_ratio'].values)\n",
    "    ar.append(df['accu_return'].values)\n"
   ]
  },
  {
   "cell_type": "code",
   "execution_count": 55,
   "metadata": {},
   "outputs": [
    {
     "data": {
      "text/plain": [
       "(array([0.09533694]), array([1.0841749]), 24, 18)"
      ]
     },
     "execution_count": 55,
     "metadata": {},
     "output_type": "execute_result"
    }
   ],
   "source": [
    "sp = np.array(sp)\n",
    "ar = np.array(ar)\n",
    "sp[sp.argmax()],ar[ar.argmax()],sp.argmax(),ar.argmax()"
   ]
  },
  {
   "cell_type": "code",
   "execution_count": 117,
   "metadata": {},
   "outputs": [
    {
     "data": {
      "image/png": "[encoded data removed]",
      "text/plain": [
       "<Figure size 432x288 with 1 Axes>"
      ]
     },
     "metadata": {
      "needs_background": "light"
     },
     "output_type": "display_data"
    }
   ],
   "source": [
    "# 4. Construct equal weighted portfolio\n",
    "ew_rets = pd.DataFrame(np.sum(1.0*data[data.index>=p_dates[0]]/data.shape[1], axis=1), columns=['return'])\n",
    "# 5. Plot the portfolio cumulative returns\n",
    "p_cumrets = ((p_rets['return'] + 1).cumprod())\n",
    "ew_cumrets = (ew_rets['return'] + 1).cumprod()\n",
    "index_df1 = index_df[index_df.index.year>=2017]\n",
    "index_cumrets = (index_df1['Idxrtn'] + 1).cumprod()\n",
    "pd.concat([p_cumrets,ew_cumrets,index_cumrets], axis=1).plot()\n",
    "plt.legend(['our_model_accumulated','bench_mark_accumulated','000300_accumulated'])\n",
    "plt.show()"
   ]
  },
  {
   "cell_type": "markdown",
   "metadata": {},
   "source": [
    "* maximize the sharp ratio and the formula derivation: this repository may helps\n",
    "\n",
    "https://github.com/PaiViji/PythonFinance--RiskBudgeted-Portfolio-Construction.git\n",
    "\n",
    "* we can also use this repository to check the quality of our work:\n",
    "\n",
    "https://github.com/jcrichard/pyrb.git"
   ]
  }
 ],
 "metadata": {
  "kernelspec": {
   "display_name": "Python 3.9.7 ('base')",
   "language": "python",
   "name": "python3"
  },
  "language_info": {
   "codemirror_mode": {
    "name": "ipython",
    "version": 3
   },
   "file_extension": ".py",
   "mimetype": "text/x-python",
   "name": "python",
   "nbconvert_exporter": "python",
   "pygments_lexer": "ipython3",
   "version": "3.9.7"
  },
  "orig_nbformat": 4,
  "vscode": {
   "interpreter": {
    "hash": "7a5152ad0efa82a444bbb7b5b09330ae1eae37d6d488966c94b24f2df6242daa"
   }
  }
 },
 "nbformat": 4,
 "nbformat_minor": 2
}

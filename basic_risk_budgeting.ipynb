{
 "cells": [
  {
   "cell_type": "markdown",
   "metadata": {},
   "source": [
    "# A test for the risk-budgeting model"
   ]
  },
  {
   "cell_type": "markdown",
   "metadata": {},
   "source": [
    "## Data/Stock choosing:\n",
    "\n",
    "1. Use stock code [600519,600030,601857,601628], four representative stock in their respective industry to do the test.\n",
    "\n",
    "2. Monthly period from 2010 - 2022. \n"
   ]
  },
  {
   "cell_type": "code",
   "execution_count": 2,
   "metadata": {},
   "outputs": [],
   "source": [
    "from scipy.optimize import minimize\n",
    "import numpy as np\n",
    "import pandas as pd\n",
    "import matplotlib.pyplot as plt\n",
    "from utils import test_result"
   ]
  },
  {
   "cell_type": "markdown",
   "metadata": {},
   "source": [
    "# 洗数据的地方别管 到时候要改"
   ]
  },
  {
   "cell_type": "code",
   "execution_count": 3,
   "metadata": {},
   "outputs": [],
   "source": [
    "stock_list = [600519,600030,601857,601628]\n",
    "def data_prep(stock_list):\n",
    "    raw_data = pd.read_csv('TRD_Mnth.csv',parse_dates=True)\n",
    "    rf = pd.read_csv('./clean_data/rf_rate.csv').value.values\n",
    "    df = pd.DataFrame()\n",
    "    df['date'] = raw_data[raw_data['Stkcd'] == 600000].Trdmnt.values\n",
    "    for i in range(len(stock_list)):\n",
    "        df[stock_list[i]] = raw_data[raw_data['Stkcd'] == stock_list[i]].Mretwd.values\n",
    "    df.to_csv('./clean_data/cleaned_data.csv')"
   ]
  },
  {
   "cell_type": "code",
   "execution_count": 4,
   "metadata": {},
   "outputs": [],
   "source": [
    "def data_seperate():\n",
    "    df = pd.read_csv('./clean_data/cleaned_data.csv',index_col=1, parse_dates=True,infer_datetime_format = True).drop(columns='Unnamed: 0')\n",
    "    train = df[df.index.year <= 2015]\n",
    "    test = df[df.index.year > 2015]\n",
    "    train.to_csv('./clean_data/train.csv')\n",
    "    test.to_csv('./clean_data/test.csv')"
   ]
  },
  {
   "cell_type": "code",
   "execution_count": 5,
   "metadata": {},
   "outputs": [],
   "source": [
    "#这里还要改下\n",
    "data_prep(stock_list)\n",
    "data_seperate()"
   ]
  },
  {
   "cell_type": "markdown",
   "metadata": {},
   "source": [
    "# Construct Portfolio"
   ]
  },
  {
   "cell_type": "markdown",
   "metadata": {},
   "source": [
    "* objective function: min $\\Sigma_{i=1}^N RC_i(w)$ (suppose N stocks)\n",
    "\n",
    "$RC_i(W) = \\frac{w_i(\\Sigma w)_i}{(w^T\\Sigma w)^{0.5}}$\n",
    "\n",
    "* two constraint: no short sellings; full activate trader\n",
    "\n",
    "\n",
    "* Following the logic from sta4020 asg7. Starting from the end of 2015, at the end of every month, use the historical asset returns (from 2011/1 to the end of that month)."
   ]
  },
  {
   "cell_type": "code",
   "execution_count": 6,
   "metadata": {},
   "outputs": [],
   "source": [
    "\"\"\"\n",
    "This file constructs a strategic ERP portfolio and compare with an equal weighted portfolio.\n",
    "x: portfolio weights\n",
    "p_cov: covariance matrix\n",
    "\"\"\"\n",
    "\n",
    "\n",
    "# risk budgeting approach optimisation object function\n",
    "def obj_fun(x, p_cov):\n",
    "\treturn np.sum((x*np.dot(p_cov, x)/np.dot(x.transpose(), np.dot(p_cov, x)))**2)\n",
    "\n",
    "\n",
    "# constraint on sum of weights equal to one\n",
    "def cons_sum_weight(x):\n",
    "\treturn np.sum(x)-1.0\n",
    "\n",
    "\n",
    "# constraint on weight larger than zero\n",
    "def cons_long_only_weight(x):\n",
    "\treturn x\n",
    "\n",
    "\n",
    "# calculate risk budgeting portfolio weight give risk budget\n",
    "def rb_p_weights(asset_rets):\n",
    "\t# number of ARP series\n",
    "\tnum_arp = asset_rets.shape[1]\n",
    "\t# covariance matrix of asset returns\n",
    "\tp_cov = asset_rets.cov()\n",
    "\t# initial weights\n",
    "\tw0 = 1.0 * np.ones((num_arp, 1)) / num_arp\n",
    "\t# constraints\n",
    "\tcons = ({'type': 'eq', 'fun': cons_sum_weight}, {'type': 'ineq', 'fun': cons_long_only_weight})\n",
    "\t# portfolio optimisation\n",
    "\treturn minimize(obj_fun, w0, args=(p_cov), method='SLSQP', constraints=cons)\n",
    "\n",
    "\n",
    "\n",
    "\t# 1. Load ARP data\n",
    "\t"
   ]
  },
  {
   "cell_type": "code",
   "execution_count": 7,
   "metadata": {},
   "outputs": [],
   "source": [
    "train_data = pd.read_csv('./clean_data/train.csv',index_col=0, parse_dates=True,infer_datetime_format = True)\n",
    "test_data = pd.read_csv('./clean_data/test.csv',index_col=0, parse_dates=True,infer_datetime_format = True)\n",
    "#train_rf = pd.read_csv('./clean_data/rf_rate_training.csv')\n",
    "#test_rf = pd.read_csv('./clean_data/rf_rate_testing.csv')\n",
    "#data = pd.read_csv('./clean_data/cleaned_data.csv',index_col=1, parse_dates=True,infer_datetime_format = True).drop(columns='Unnamed: 0')\n",
    "# 2. calculate excess returns\n",
    "\n",
    "\n",
    "# 3. Construct risk budgeting portfolio\n",
    "# portfolio dates\n",
    "p_dates = test_data.index\n",
    "data = pd.concat([train_data,test_data])\n",
    "# initialise portfolio weights matrix\n",
    "w = pd.DataFrame(index=p_dates, columns=data.columns)\n",
    "# initialise portfolio return matrix\n",
    "p_rets = pd.DataFrame(index=p_dates, columns=['return'])\n",
    "\n",
    "for t in p_dates:\n",
    "\n",
    "\t# re-balance the portfolio each month\n",
    "\ttmp_portfolio = data[data.index < t]\n",
    "\tw.loc[t] = rb_p_weights(tmp_portfolio).x\n",
    "\n",
    "\t# calculate risk budgeting portfolio returns\n",
    "\tp_rets.loc[t] = np.sum(w.loc[t] * data.loc[t])\n"
   ]
  },
  {
   "cell_type": "markdown",
   "metadata": {},
   "source": [
    "# 回测"
   ]
  },
  {
   "cell_type": "code",
   "execution_count": 9,
   "metadata": {},
   "outputs": [
    {
     "data": {
      "text/html": [
       "<div>\n",
       "<style scoped>\n",
       "    .dataframe tbody tr th:only-of-type {\n",
       "        vertical-align: middle;\n",
       "    }\n",
       "\n",
       "    .dataframe tbody tr th {\n",
       "        vertical-align: top;\n",
       "    }\n",
       "\n",
       "    .dataframe thead th {\n",
       "        text-align: right;\n",
       "    }\n",
       "</style>\n",
       "<table border=\"1\" class=\"dataframe\">\n",
       "  <thead>\n",
       "    <tr style=\"text-align: right;\">\n",
       "      <th></th>\n",
       "      <th>accu_return</th>\n",
       "      <th>annual_return</th>\n",
       "      <th>annual_vol</th>\n",
       "      <th>sharpe_ratio</th>\n",
       "      <th>max_dd</th>\n",
       "      <th>winning_rate</th>\n",
       "      <th>karmar</th>\n",
       "    </tr>\n",
       "  </thead>\n",
       "  <tbody>\n",
       "    <tr>\n",
       "      <th>0</th>\n",
       "      <td>1.244323</td>\n",
       "      <td>0.123982</td>\n",
       "      <td>1.462848</td>\n",
       "      <td>0.077918</td>\n",
       "      <td>-0.217761</td>\n",
       "      <td>0.614458</td>\n",
       "      <td>5.714169</td>\n",
       "    </tr>\n",
       "  </tbody>\n",
       "</table>\n",
       "</div>"
      ],
      "text/plain": [
       "   accu_return  annual_return  annual_vol  sharpe_ratio    max_dd  \\\n",
       "0     1.244323       0.123982    1.462848      0.077918 -0.217761   \n",
       "\n",
       "   winning_rate    karmar  \n",
       "0      0.614458  5.714169  "
      ]
     },
     "execution_count": 9,
     "metadata": {},
     "output_type": "execute_result"
    }
   ],
   "source": [
    "test_result.calculate_result(p_rets)"
   ]
  },
  {
   "cell_type": "code",
   "execution_count": 12,
   "metadata": {},
   "outputs": [
    {
     "data": {
      "image/png": "[encoded data removed]",
      "text/plain": [
       "<Figure size 432x288 with 1 Axes>"
      ]
     },
     "metadata": {
      "needs_background": "light"
     },
     "output_type": "display_data"
    }
   ],
   "source": [
    "# 4. Construct equal weighted portfolio\n",
    "\n",
    "ew_rets = pd.DataFrame(np.sum(1.0*data[data.index>=p_dates[0]]/data.shape[1], axis=1), columns=['return'])\n",
    "\n",
    "# 5. Plot the portfolio cumulative returns\n",
    "p_cumrets = (p_rets['return'] + 1).cumprod()-1\n",
    "ew_cumrets = (ew_rets['return'] + 1).cumprod()-1\n",
    "\n",
    "pd.concat([p_cumrets, ew_cumrets], axis=1).plot()\n",
    "plt.show()"
   ]
  },
  {
   "cell_type": "markdown",
   "metadata": {},
   "source": [
    "* maximize the sharp ratio and the formula derivation: this repository may helps\n",
    "\n",
    "https://github.com/PaiViji/PythonFinance--RiskBudgeted-Portfolio-Construction.git\n",
    "\n",
    "* we can also use this repository to check the quality of our work:\n",
    "\n",
    "https://github.com/jcrichard/pyrb.git"
   ]
  }
 ],
 "metadata": {
  "kernelspec": {
   "display_name": "Python 3.9.7 ('base')",
   "language": "python",
   "name": "python3"
  },
  "language_info": {
   "codemirror_mode": {
    "name": "ipython",
    "version": 3
   },
   "file_extension": ".py",
   "mimetype": "text/x-python",
   "name": "python",
   "nbconvert_exporter": "python",
   "pygments_lexer": "ipython3",
   "version": "3.9.7"
  },
  "orig_nbformat": 4,
  "vscode": {
   "interpreter": {
    "hash": "7a5152ad0efa82a444bbb7b5b09330ae1eae37d6d488966c94b24f2df6242daa"
   }
  }
 },
 "nbformat": 4,
 "nbformat_minor": 2
}
